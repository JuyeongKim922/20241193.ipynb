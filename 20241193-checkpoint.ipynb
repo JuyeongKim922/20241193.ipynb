{
 "cells": [
  {
   "cell_type": "markdown",
   "id": "df6c623d-5dfd-4ba6-adfa-cd661f85292a",
   "metadata": {},
   "source": [
    "# 1.Leetcode 225\n",
    "### 스택은 후입선출이고 큐는 선입선출이기 떄문에 push를 할때마다 순서를 재배치하여 스택처럼 동작시캬준다.\n",
    "### 새로 들어온 원소를 q2에 먼저 추가하고 기존의 q1원소를 q2로 옮긴 뒤 q1과 q2를 스왑해준다.    \n",
    "### 스택 맨위의 요소를 제거하고 반환한다.\n",
    "### 스택 맨 위의 요소를 반환하지만 제거하지는 않는다.    \n",
    "### 스택이 비어 있으면 true를 반환한다.\n",
    "  "
   ]
  },
  {
   "cell_type": "code",
   "execution_count": null,
   "id": "88649e3a-6f08-4375-8596-98e0f0bfdf78",
   "metadata": {},
   "outputs": [],
   "source": [
    "\n",
    "from collections import deque\n",
    "class Mystack:\n",
    "    def__init__(self):\n",
    "        self.q1=dequeue()\n",
    "        self.q2=defueue()\n",
    "  \n",
    "    def push(self,x:int)->None:\n",
    "        self.q2.append(x)\n",
    "        while self.q1:\n",
    "            self.q2.append(self.q1.popleft())\n",
    "        self.q1,self.q2=self.q2,self.q1\n",
    "    \n",
    "    def pop(self)->int:\n",
    "        return self.q1.popleft()\n",
    "     \n",
    "    def top(self)-> int:\n",
    "        return self.q1[0]\n",
    "   \n",
    "    def empty(self)-> bool:\n",
    "        return not self.q1\n",
    "\n",
    "stack= MyStack()\n",
    "stack.push(1)\n",
    "stack.push(2)\n",
    "print(\"Top:\",stack.top()) \n",
    "print(\"Pop:\", stack.pop())\n",
    "print(\"Empty:\", stack.empty())"
   ]
  },
  {
   "cell_type": "markdown",
   "id": "15363df7-9220-4d45-a406-8d90a699464a",
   "metadata": {},
   "source": [
    "## 출력결과\n",
    "### 2\n",
    "### 2\n",
    "### False"
   ]
  },
  {
   "cell_type": "markdown",
   "id": "3e9876bd-a6f7-41fe-8123-bfa2f8a04522",
   "metadata": {},
   "source": [
    "# 2.Leetcode 232\n",
    "## 큐는 선입선출이지만 스택은 후입선출이다.\n",
    "### in_stack에 새로 들어온 값을 저장한다.\n",
    "### out_stack에는 실제로 pop이나 peek를 할 때 사용하는 스택이다.\n",
    "### pop 또는 peek를 호출할 때, out_staxk이 비어있다면 in_stack을 모두 꺼내서 거꾸로 담아준다.\n"
   ]
  },
  {
   "cell_type": "code",
   "execution_count": 1,
   "id": "21f033e0-f063-44b7-9108-dbfc5728b27c",
   "metadata": {},
   "outputs": [
    {
     "ename": "SyntaxError",
     "evalue": "expected ':' (2132693279.py, line 11)",
     "output_type": "error",
     "traceback": [
      "  \u001b[36mCell\u001b[39m\u001b[36m \u001b[39m\u001b[32mIn[1]\u001b[39m\u001b[32m, line 11\u001b[39m\n\u001b[31m    \u001b[39m\u001b[31mif not self.out_staxkL\u001b[39m\n                          ^\n\u001b[31mSyntaxError\u001b[39m\u001b[31m:\u001b[39m expected ':'\n"
     ]
    }
   ],
   "source": [
    "class MyQueue:\n",
    "    def __init_(self):\n",
    "        self.in_stack=[]\n",
    "        self.out_stack=[]\n",
    "    def push(self,x: int)-> None:\n",
    "        self.in_stack.append(x)\n",
    "    def pop(self)-> int:\n",
    "        self.peek()\n",
    "        return self.out_stack.pop()\n",
    "    def peek(self)-> int:\n",
    "        if not self.out_stack:\n",
    "            while self.in_stack:\n",
    "                self.out_stack.append(self.in_stack.pop())\n",
    "            return self.out_stack[-1]\n",
    "    def empty(self)-> bool:\n",
    "        return not self.in_stack and not self.out_staxck\n",
    "\n",
    "q = MyQueue()\n",
    "q.push(1)\n",
    "q.push(2)\n",
    "print(\"peek:\", q.peek())\n",
    "print(\"Pop:\", q.pop())\n",
    "print(\"Empty:\", q.empty())"
   ]
  },
  {
   "cell_type": "markdown",
   "id": "080d5a30-fdf2-43bb-8e1d-961c600a7f13",
   "metadata": {},
   "source": [
    "## 출력값\n",
    "### 1\n",
    "### 1\n",
    "### False"
   ]
  },
  {
   "cell_type": "markdown",
   "id": "e84719be-e739-44e5-9c18-9a7e39f9f7be",
   "metadata": {},
   "source": [
    "# 3.큐 연습문제"
   ]
  },
  {
   "cell_type": "markdown",
   "id": "61737273-b316-496f-af19-847bb0b8379c",
   "metadata": {},
   "source": [
    "## 1번"
   ]
  },
  {
   "cell_type": "code",
   "execution_count": null,
   "id": "565292db-ecad-4da3-a9f0-0b4ccf6020e6",
   "metadata": {},
   "outputs": [],
   "source": [
    "class ListQueue:\n",
    "    def__init__(self):\n",
    "        self.__queue=[]\n",
    "\n",
    "    def enqueue(self,x):\n",
    "        sel.__queue.insert(0,x)\n",
    "    def dequeue(self):\n",
    "        return self.__queue.pop()\n",
    "    def front(self):\n",
    "        return self.__queue[-1]\n",
    "    def isEmpty(self)-> bool:\n",
    "        return len(self.__queue)==0\n",
    "    def dequeueAll(self):\n",
    "        self.__queue.clear()"
   ]
  },
  {
   "cell_type": "markdown",
   "id": "577149ba-a3ce-473f-a493-6fa6c6d2cf4a",
   "metadata": {},
   "source": [
    "### 리스트의 맨 끝을 큐의 front로 간주하여야 하기 때문에 enqueue 함수에서 append가 아닌 insert를 사용해준다. 그렇게 되면 맨 처음 넣은 원소가 점점 뒤로 밀려 나가기 때문에 맨 끝을 front라고 볼 수 있다."
   ]
  },
  {
   "cell_type": "markdown",
   "id": "1596270b-809c-4a6a-999f-7c9e315f1826",
   "metadata": {},
   "source": [
    "## 2번"
   ]
  },
  {
   "cell_type": "code",
   "execution_count": null,
   "id": "96c795cf-655f-413d-b070-d673656e36f2",
   "metadata": {},
   "outputs": [],
   "source": [
    "\n",
    "class CheckString:\n",
    "    def __init__(self,string):\n",
    "        self.string = string\n",
    "        self.queue = []\n",
    "    def enqueue(self,ch):\n",
    "        self.queue.append(ch)\n",
    "    def dequeue(self,ch):\n",
    "        self.queue.pop(0)\n",
    "    def check(self)->bool:\n",
    "        dollar_index= self.string.find(\"$\")\n",
    "        left= self.string[:dollar_index]\n",
    "        right= self.string[dollar_index+1:]\n",
    "        return left == right[::-1]\n"
   ]
  },
  {
   "cell_type": "markdown",
   "id": "f36c4bae-b104-4b27-8818-a73267d95d97",
   "metadata": {},
   "source": [
    "### 문자열을 입력했을때, 먼저 문자를 $를 기준으로 나누어주어 각각 left 와 right 변수에 저장해준다.\n",
    "### 나눠준 두 변수를 비교하는데 이때 right는 역순으로 읽어서 비교해야하므로 [::-1]을 사용해준다."
   ]
  },
  {
   "cell_type": "markdown",
   "id": "8cdaa2f1-7570-4de3-b283-44716282237f",
   "metadata": {},
   "source": [
    "## 3번"
   ]
  },
  {
   "cell_type": "code",
   "execution_count": 1,
   "id": "d5de9b2a-14c3-441b-a08e-7effeecc18ca",
   "metadata": {},
   "outputs": [
    {
     "ename": "_IncompleteInputError",
     "evalue": "incomplete input (537382781.py, line 13)",
     "output_type": "error",
     "traceback": [
      "  \u001b[36mCell\u001b[39m\u001b[36m \u001b[39m\u001b[32mIn[1]\u001b[39m\u001b[32m, line 13\u001b[39m\n\u001b[31m    \u001b[39m\u001b[31mif self.isEmpty():\u001b[39m\n                      ^\n\u001b[31m_IncompleteInputError\u001b[39m\u001b[31m:\u001b[39m incomplete input\n"
     ]
    }
   ],
   "source": [
    "class Node:\n",
    "    def __init__(self,data):\n",
    "        self.data = data\n",
    "        self.link = None\n",
    "class LinkedQueue:\n",
    "    def __init__(self):\n",
    "        self.front = None\n",
    "        self.rear = None\n",
    "    def isEmpty(self):\n",
    "        return self.front is None\n",
    "    def enqueue(self, data):\n",
    "        new_node = Node(data)\n",
    "        if self.rear:\n",
    "            self.rear.link = new\n",
    "        else:\n",
    "            self.front = new\n",
    "        self.rear = new\n",
    "    def display(self):\n",
    "        cur= self.front\n",
    "        while cur:\n",
    "            print(cur.data, end=\"->\")\n",
    "        print(\"None\")\n",
    "\n",
    "def copy_Queue(a):\n",
    "    b= LinkedQueue()\n",
    "    cur=a.front\n",
    "    while curL\n",
    "        b.enqueue(cur.data)\n",
    "        cur=cur.link\n",
    "    return b"
   ]
  },
  {
   "cell_type": "markdown",
   "id": "4505f957-db26-4ed5-8645-68e60929352a",
   "metadata": {},
   "source": [
    "### 클래스 Node 는 하나의 노드를 만드는 클래스이다\n",
    "### LinkedQueue 클래스는 front를 큐의 맨아프 rear을 큐의 맨끝으로 설정한다.\n",
    "### copy_Queue 함수에서 새로운 b를 생성하고 a의 첫 노드부터 값만 b에 넣어준다. "
   ]
  },
  {
   "cell_type": "markdown",
   "id": "39011ec5-1ecf-4fc0-8c60-2fe168fafdf0",
   "metadata": {},
   "source": [
    "## 4번"
   ]
  },
  {
   "cell_type": "code",
   "execution_count": null,
   "id": "1fa89f7e-f3d3-4806-a35e-65b1d206abe6",
   "metadata": {},
   "outputs": [],
   "source": [
    "class Mystack:\n",
    "    def __init__(self):        \n",
    "        self.q1= []\n",
    "        self.q2= []\n",
    "    def push(self,x):\n",
    "        self.q2.append(x)\n",
    "        while self.q1:\n",
    "            self.q2.append(self.q1.pop(0))\n",
    "        self.q1,self.q2= self.q2,self.q1\n",
    "    def pop(self):\n",
    "        return self.q1.pop(0)   "
   ]
  },
  {
   "cell_type": "markdown",
   "id": "b067238c-5cc9-4276-bef8-3a91007d49ba",
   "metadata": {},
   "source": [
    "### 먼저 새 원소를 보조 큐인 q2에 넣는다. 그리고 기존의 q1의 모든 요소를 q2 뒤로 옮긴 뒤 두 큐를 바꿔치기 해주면 항상 q1의 앞에 가장 최근에 넣은 x가 오게된다.\n",
    "### 위 구현을 통해 q1은 항상 리스트의 맨 앞에 스택에 마지막에 push된 값이 오도록 유지되어있다. 따라서 q1.pop(0)을 통해 인덱스 맨 앞의 값을 꺼낸다."
   ]
  },
  {
   "cell_type": "markdown",
   "id": "a0a16c68-ea80-4185-82f1-28f827371eff",
   "metadata": {},
   "source": [
    "## 5번"
   ]
  },
  {
   "cell_type": "code",
   "execution_count": 2,
   "id": "29c8a26a-c309-4ccd-ac2f-44e042c2e3ca",
   "metadata": {},
   "outputs": [
    {
     "ename": "SyntaxError",
     "evalue": "expected ':' (1702771652.py, line 7)",
     "output_type": "error",
     "traceback": [
      "  \u001b[36mCell\u001b[39m\u001b[36m \u001b[39m\u001b[32mIn[2]\u001b[39m\u001b[32m, line 7\u001b[39m\n\u001b[31m    \u001b[39m\u001b[31mdef dequeue(self)\u001b[39m\n                     ^\n\u001b[31mSyntaxError\u001b[39m\u001b[31m:\u001b[39m expected ':'\n"
     ]
    }
   ],
   "source": [
    "class Mystack:\n",
    "    def __init__(self):\n",
    "        self.q1= []\n",
    "        self.q2= []\n",
    "    def enqueue(self,x):\n",
    "        self.q1.append(x)\n",
    "    def dequeue(self):\n",
    "        if not self.q2:\n",
    "            while self.q1:\n",
    "                self.q2.append(self.q1.pop())\n",
    "        return self.q2.pop()"
   ]
  },
  {
   "cell_type": "markdown",
   "id": "8b7b2f93-29ad-4b05-9f6d-c971651067d3",
   "metadata": {},
   "source": [
    "### 새 원소는 항상 q1에 넣는다.\n",
    "### q2가 비어 있으면 q1을 전부 뒤집어 옮긴다. q1의 맨 끝 원소를 꺼내서 q2에 넣어주면 순서가 뒤집힌다.\n",
    "### 이제 q2의 맨 끝이 큐의 front가 되기 때문에 맨 끝부터 pop 해주면 된다."
   ]
  },
  {
   "cell_type": "markdown",
   "id": "5d76770c-f0a3-4d0e-885e-691c831e94db",
   "metadata": {},
   "source": [
    "## 6번\n",
    "### enqueue()는 원형 연결 리스트의 꼬리에 노드 추가 연산은 꼬리 포인터만 갱신하면 되므로 O(1)이다.\n",
    "### dequeue()는 인덱스0의 노드를 제거하는연산으로 , 헤더 포인터와 꼬리의 링크만 조정하면 되므로 O(1)이다.\n",
    "### 따라서 큐의 크기가 n이어도 enqueue()는 O(1), dequeue는 O(1)이다."
   ]
  },
  {
   "cell_type": "markdown",
   "id": "d70da851-7bd4-4a47-aec1-409712f8aa4a",
   "metadata": {},
   "source": [
    "## 7번\n",
    "### 코드 7-13에서는 내부적으로 꼬리 포인터를 유지하지 않고 매번 append를 할 때, 리스트의 끝 바로 앞 노드를 찾기 위해 순회한다.\n",
    "### enqueue()는 내부적으로 __getNode(self.__numItems-1)를 호출하기 때문에 O(n), 새노드를 꼬리 뒤에 붙이기 때문에 O(1), 따라서 총 O(n)이 소요된다.\n",
    "### dequeue()는 pop(0)이 항상 헤드 노드를 삭제하고, 더미 헤드를 이용하여 헤드 포인터만 옮기므로 O(1)이 소요된다."
   ]
  },
  {
   "cell_type": "markdown",
   "id": "60a5cf06-8347-44a7-a90a-b0117a40d4ce",
   "metadata": {},
   "source": [
    "## 8변"
   ]
  },
  {
   "cell_type": "code",
   "execution_count": 3,
   "id": "3b2caa50-465b-445c-9829-96cb32a24288",
   "metadata": {},
   "outputs": [
    {
     "ename": "_IncompleteInputError",
     "evalue": "incomplete input (4110704361.py, line 4)",
     "output_type": "error",
     "traceback": [
      "  \u001b[36mCell\u001b[39m\u001b[36m \u001b[39m\u001b[32mIn[3]\u001b[39m\u001b[32m, line 4\u001b[39m\n\u001b[31m    \u001b[39m\u001b[31mdef enqueue_front(self,x):\u001b[39m\n                              ^\n\u001b[31m_IncompleteInputError\u001b[39m\u001b[31m:\u001b[39m incomplete input\n"
     ]
    }
   ],
   "source": [
    "class Deque:\n",
    "    def __init__(self):\n",
    "        self.__dq= []\n",
    "    def enqueue_front(self,x):\n",
    "        self.__dq.insert(0,x)\n",
    "    def enqueue_rear(self,x):\n",
    "        self.__dq.append(x)\n",
    "    def dequeue_front(self):\n",
    "        if self.isEmpty():\n",
    "            return None\n",
    "        return self.__dq.pop(0)\n",
    "    def dequeue_rear(self):\n",
    "        if self.isEmpty():\n",
    "            return None\n",
    "        return self.__dq.pop()\n",
    "    def front(self):\n",
    "        if self.isEmpty():\n",
    "            return None\n",
    "        return self.__dq[0]\n",
    "    def rear(self):\n",
    "        if self.isEmpty():\n",
    "            return None\n",
    "        return self.__dq[-1]\n",
    "    def isEmpty(self)-> bool:\n",
    "        return lend(self.__dq)==0\n",
    "    def clear(self):\n",
    "        self.__dq.clear()\n",
    "    def printQueue(self):\n",
    "        print(\"Deque front->rear:\", end=\" \")\n",
    "        for x in self.__dq:\n",
    "            print(x,end=\" \")\n",
    "        print()"
   ]
  },
  {
   "cell_type": "markdown",
   "id": "90cdc3b5-e449-4f3d-87d5-323766f525b8",
   "metadata": {},
   "source": [
    "### dq라는 비공개 리스트를 만들어서 큐의 데이터를 담는 공간으로 사용한다. 이제 ListQueue는 양방향 큐여서 앞뒤 양쪽에 삽입 삭제가 가능하다.\n",
    "### 큐 앞쪽에 값을 넣는 함 수 enqueue_front\n",
    "### 큐 뒤쪽에 값알 넣는 함수 enqueue_rear\n",
    "### 큐 앞쪽을 뺴는 함수 dequeue_front\n",
    "### 큐 뒤쪽을 빼는 함수 dequeue_rear"
   ]
  }
 ],
 "metadata": {
  "kernelspec": {
   "display_name": "Python 3 (ipykernel)",
   "language": "python",
   "name": "python3"
  },
  "language_info": {
   "codemirror_mode": {
    "name": "ipython",
    "version": 3
   },
   "file_extension": ".py",
   "mimetype": "text/x-python",
   "name": "python",
   "nbconvert_exporter": "python",
   "pygments_lexer": "ipython3",
   "version": "3.13.2"
  }
 },
 "nbformat": 4,
 "nbformat_minor": 5
}
